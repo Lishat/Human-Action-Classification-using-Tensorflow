{
  "nbformat": 4,
  "nbformat_minor": 0,
  "metadata": {
    "colab": {
      "name": "Convolution Neural Networks in Tensorflow.ipynb",
      "version": "0.3.2",
      "provenance": [],
      "collapsed_sections": [],
      "include_colab_link": true
    },
    "kernelspec": {
      "name": "python3",
      "display_name": "Python 3"
    },
    "accelerator": "GPU"
  },
  "cells": [
    {
      "cell_type": "markdown",
      "metadata": {
        "id": "view-in-github",
        "colab_type": "text"
      },
      "source": [
        "<a href=\"https://colab.research.google.com/github/Lishat/Human-Action-Classification-using-Tensorflow/blob/master/Convolution_Neural_Networks_in_Tensorflow.ipynb\" target=\"_parent\"><img src=\"https://colab.research.google.com/assets/colab-badge.svg\" alt=\"Open In Colab\"/></a>"
      ]
    },
    {
      "cell_type": "code",
      "metadata": {
        "id": "5meZeGZqTmel",
        "colab_type": "code",
        "colab": {}
      },
      "source": [
        "import numpy as np\n",
        "import cv2\n",
        "import os\n",
        "import tensorflow as tf\n",
        "from sklearn.model_selection import train_test_split"
      ],
      "execution_count": 0,
      "outputs": []
    },
    {
      "cell_type": "code",
      "metadata": {
        "id": "w8vI44zTUZIU",
        "colab_type": "code",
        "colab": {}
      },
      "source": [
        "from google.colab import drive\n",
        "drive.mount('/content/drive')"
      ],
      "execution_count": 0,
      "outputs": []
    },
    {
      "cell_type": "code",
      "metadata": {
        "id": "5ABgbjOJUsZj",
        "colab_type": "code",
        "colab": {}
      },
      "source": [
        "m=sum([len(files) for r, d, files in os.walk(\"/content/drive/My Drive/Assignment-1_Datasets /A1-Q2_Dataset/HumanActionClassification/\")])\n",
        "X = np.zeros((m, 224, 224, 3))\n",
        "Y = np.zeros((m, 7))\n",
        "count = 0\n",
        "for i in range(1, 8):\n",
        "    for file in os.listdir(\"/content/drive/My Drive/Assignment-1_Datasets /A1-Q2_Dataset/HumanActionClassification/\"+str(i)+\"/\"):\n",
        "        X[count] = cv2.resize(cv2.imread(\"/content/drive/My Drive/Assignment-1_Datasets /A1-Q2_Dataset/HumanActionClassification/\"+str(i)+\"/\"+file), dsize=(224, 224), interpolation=cv2.INTER_CUBIC)\n",
        "        Y[count][i-1] = 1\n",
        "        count += 1\n",
        "        print(count)\n",
        "X = X[:count]\n",
        "Y = Y[:count]\n",
        "xTrain, xTest, yTrain, yTest = train_test_split(X, Y, test_size = 0.25, random_state = 0)"
      ],
      "execution_count": 0,
      "outputs": []
    },
    {
      "cell_type": "code",
      "metadata": {
        "id": "BrydCx2eWE-5",
        "colab_type": "code",
        "colab": {}
      },
      "source": [
        "def Convolution_Network(x_train, x_test, y_train, y_test):\n",
        "  x = tf.placeholder(tf.float32, [None, 224, 224, 3])\n",
        "  y = tf.placeholder(tf.float32, [None, 7])\n",
        "  W1 = tf.Variable(tf.truncated_normal([5, 5, 3, 16], stddev = 0.05), name='W1')\n",
        "  b1 = tf.Variable(tf.truncated_normal([16]), name='b1')\n",
        "  z1 = tf.nn.relu(tf.nn.conv2d(x , W1, [1, 1, 1, 1], padding='SAME') + b1)\n",
        "  a1 = tf.nn.max_pool(z1, ksize=[1, 3, 3, 1], strides=[1, 2, 2, 1], padding=\"SAME\")\n",
        "  W2 = tf.Variable(tf.truncated_normal([5, 5, 16, 32], stddev = 0.05), name='W2')\n",
        "  b2 = tf.Variable(tf.truncated_normal([32]), name='b2')\n",
        "  z2 = tf.nn.relu(tf.nn.conv2d(a1 , W2, [1, 1, 1, 1], padding='SAME') + b2)\n",
        "  a2 = tf.nn.max_pool(z2, ksize=[1, 3, 3, 1], strides=[1, 2, 2, 1], padding=\"SAME\")\n",
        "  W3 = tf.Variable(tf.truncated_normal([5, 5, 32, 64], stddev = 0.05), name='W3')\n",
        "  b3 = tf.Variable(tf.truncated_normal([64]), name='b3')\n",
        "  z3 = tf.nn.relu(tf.nn.conv2d(a2 , W3, [1, 1, 1, 1], padding='SAME') + b3)\n",
        "  a3 = tf.nn.max_pool(z3, ksize=[1, 3, 3, 1], strides=[1, 2, 2, 1], padding=\"SAME\")\n",
        "  W4 = tf.Variable(tf.truncated_normal([5, 5, 64, 128], stddev = 0.05), name='W4')\n",
        "  b4 = tf.Variable(tf.truncated_normal([128]), name='b4')\n",
        "  z4 = tf.nn.relu(tf.nn.conv2d(a3 , W4, [1, 1, 1, 1], padding='SAME') + b4)\n",
        "  a4 = tf.nn.max_pool(z4, ksize=[1, 3, 3, 1], strides=[1, 2, 2, 1], padding=\"SAME\")\n",
        "  W5 = tf.Variable(tf.truncated_normal([5, 5, 128, 256], stddev = 0.05), name='W5')\n",
        "  b5 = tf.Variable(tf.truncated_normal([256]), name='b5')\n",
        "  z5 = tf.nn.relu(tf.nn.conv2d(a4 , W5, [1, 1, 1, 1], padding='SAME') + b5)\n",
        "  a5 = tf.nn.max_pool(z5, ksize=[1, 3, 3, 1], strides=[1, 2, 2, 1], padding=\"SAME\")\n",
        "  flatten = tf.reshape(a5, [-1, 7*7*256])\n",
        "  W6 = tf.Variable(tf.truncated_normal([7*7*256, 256], stddev = 0.05), name='W6')\n",
        "  b6 = tf.Variable(tf.truncated_normal([256]), name='b6')\n",
        "  a6 = tf.nn.relu(tf.matmul(flatten, W6) + b6)\n",
        "  W7 = tf.Variable(tf.truncated_normal([256, 7], stddev = 0.05), name='W7')\n",
        "  b7 = tf.Variable(tf.truncated_normal([7]), name='b7')\n",
        "  z7 = tf.matmul(a6, W7) + b7\n",
        "  a7 = tf.nn.softmax(z7)\n",
        "  cross_entropy_loss = tf.reduce_mean(tf.nn.softmax_cross_entropy_with_logits_v2(logits=z7, labels = y))\n",
        "  optimizer = tf.train.AdamOptimizer(learning_rate=0.001).minimize(cross_entropy_loss)\n",
        "  accuracy = tf.reduce_mean(tf.cast(tf.equal(tf.argmax(y, 1), tf.argmax(a7, 1)), tf.float32))\n",
        "  with tf.Session() as sess:\n",
        "    sess.run(tf.global_variables_initializer())\n",
        "    batch_size = 64\n",
        "    total_batch = x_train.shape[0]//batch_size\n",
        "    for epoch in range(1000):\n",
        "        avg_cost = 0\n",
        "        for i in range(total_batch):\n",
        "            _, c = sess.run([optimizer, cross_entropy_loss], feed_dict={x:xTrain[i*batch_size:(i+1)*batch_size], y:yTrain[i*batch_size:(i+1)*batch_size]})\n",
        "            avg_cost += c/total_batch\n",
        "        train_accuracy = sess.run(accuracy, feed_dict={x:xTrain, y:yTrain})\n",
        "        test_accuracy = sess.run(accuracy, feed_dict={x:xTest, y:yTest})\n",
        "        print(\"Epoch:\", (epoch+1))\n",
        "        print(\"Cost:\", avg_cost)\n",
        "        print(\"Train accuracy:\", train_accuracy)\n",
        "        print(\"Test accuracy:\", test_accuracy)"
      ],
      "execution_count": 0,
      "outputs": []
    },
    {
      "cell_type": "code",
      "metadata": {
        "id": "jpnaLPUeb_Wi",
        "colab_type": "code",
        "colab": {}
      },
      "source": [
        "Convolution_Network(xTrain, xTest, yTrain, yTest)"
      ],
      "execution_count": 0,
      "outputs": []
    },
    {
      "cell_type": "code",
      "metadata": {
        "id": "--sJjTOtcVzP",
        "colab_type": "code",
        "colab": {}
      },
      "source": [
        ""
      ],
      "execution_count": 0,
      "outputs": []
    }
  ]
}